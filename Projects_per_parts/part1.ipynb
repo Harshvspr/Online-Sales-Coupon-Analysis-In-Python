{
 "cells": [
  {
   "cell_type": "markdown",
   "id": "1989546e-0ed1-4cd8-8ed1-396fbc0b7a8f",
   "metadata": {},
   "source": [
    "# Online Sales Coupon Analysis\n",
    "\n",
    "This project analyzes real-world sales data to understand **how customers use discount coupons** across different **demographics, campaigns, and product types**.\n",
    "\n",
    "We'll use **Python** for data cleaning, merging, and visualization — focusing on insights instead of machine learning. The final goal is to prepare a **dashboard-ready dataset** for tools like Power BI.\n",
    "\n",
    "---\n",
    "\n",
    "## 🎯 Objectives\n",
    "\n",
    "- Analyze coupon usage by customer demographics  \n",
    "- Identify trends across campaigns, products, and brands  \n",
    "- Summarize discount behavior for business insights  \n",
    "- Prepare clean data for visualization tools\n",
    "\n",
    "---\n",
    "\n",
    "**Dataset Source**: Kaggle — *Predicting Coupon Redemption*\n",
    "\n",
    "📁 Files used:  \n",
    "- `customer_transaction_data.csv`  \n",
    "- `customer_demographics.csv`  \n",
    "- `coupon_item_mapping.csv`  \n",
    "- `campaign_data.csv`\n"
   ]
  },
  {
   "cell_type": "code",
   "execution_count": 3,
   "id": "05fd824e-d4e7-4210-8f0d-4097cd55f7f5",
   "metadata": {},
   "outputs": [],
   "source": [
    "import pandas as pd\n",
    "import matplotlib as plotly\n",
    "import seaborn as sns"
   ]
  },
  {
   "cell_type": "code",
   "execution_count": 12,
   "id": "d1fc340e-4c44-4abb-a77c-1dc12c3379c9",
   "metadata": {},
   "outputs": [],
   "source": [
    "trans=pd.read_csv(\"customer_transaction_data.csv\")\n",
    "camp=pd.read_csv(\"campaign_data.csv\")\n",
    "customer=pd.read_csv(\"customer_demographics.csv\")\n",
    "coupon=pd.read_csv(\"coupon_item_mapping.csv\")"
   ]
  },
  {
   "cell_type": "code",
   "execution_count": 24,
   "id": "c517f29a-4a59-4f07-8c4a-275211ef42b1",
   "metadata": {},
   "outputs": [
    {
     "data": {
      "text/plain": [
       "(92663, 2)"
      ]
     },
     "execution_count": 24,
     "metadata": {},
     "output_type": "execute_result"
    }
   ],
   "source": [
    "# Perform EDA to get better understanding from this data set \n",
    "customer.shape  # so customer data have 760 rows and 7 column\n",
    "camp.shape  # 28 rows and 4 column\n",
    "trans.shape # 1324566 rows and 7 column\n",
    "coupon.shape # 92663 rows and 2 column \n",
    "# Checking null values-------------------\n",
    "coupon.isnull().values.any() # no null value \n",
    "customer.isnull().values.any() # null value\n",
    "camp.isnull().values.any() # no null value \n",
    "trans.isnull().values.any() # no null values "
   ]
  },
  {
   "cell_type": "code",
   "execution_count": 62,
   "id": "4bd8c575-8054-4238-ab50-9412754a79bf",
   "metadata": {},
   "outputs": [],
   "source": [
    "# Cleaning the datasets\n",
    "customer.isnull().sum() # martial status = 329 null values and no_of_children = 538 null values\n",
    "customer.dropna(axis=0,inplace = True)  # remove null values here"
   ]
  },
  {
   "cell_type": "code",
   "execution_count": 61,
   "id": "cd4caa0f-805f-49a7-ac2e-4a0423bbf3d3",
   "metadata": {},
   "outputs": [
    {
     "name": "stdout",
     "output_type": "stream",
     "text": [
      "Is there any null values here ? False\n"
     ]
    }
   ],
   "source": [
    "print(\"Is there any null values here ?\",customer.isnull().values.any())"
   ]
  },
  {
   "cell_type": "code",
   "execution_count": 66,
   "id": "9005e941-37db-4060-9b5e-5d1efa00b19d",
   "metadata": {},
   "outputs": [
    {
     "data": {
      "text/plain": [
       "Index(['customer_id', 'age_range', 'marital_status', 'rented', 'family_size',\n",
       "       'no_of_children', 'income_bracket'],\n",
       "      dtype='object')"
      ]
     },
     "execution_count": 66,
     "metadata": {},
     "output_type": "execute_result"
    }
   ],
   "source": [
    "# To get insights we have to merge some columns from this data sets\n",
    "# we have coupon id and customer so we analyze coupon with customer relation coupon id with customer id\n",
    "#trans #date', 'customer_id', 'item_id', 'quantity', 'selling_price',\n",
    "                      #'other_discount', 'coupon_discount'\n",
    "customer.columns"
   ]
  },
  {
   "cell_type": "code",
   "execution_count": 89,
   "id": "ecdb83e3-6c6f-4445-a141-26d50e40fd9b",
   "metadata": {},
   "outputs": [
    {
     "data": {
      "text/plain": [
       "Index(['date', 'customer_id', 'item_id', 'quantity', 'selling_price',\n",
       "       'other_discount', 'coupon_discount', 'age_range', 'marital_status',\n",
       "       'rented', 'family_size', 'no_of_children', 'income_bracket'],\n",
       "      dtype='object')"
      ]
     },
     "execution_count": 89,
     "metadata": {},
     "output_type": "execute_result"
    }
   ],
   "source": [
    "# now we do merging here to get more insights from table\n",
    "df=trans.merge(customer,on='customer_id',how='left')\n",
    "df.columns # now we create new data set which include info from trans data left side and remaing data of customer right side"
   ]
  },
  {
   "cell_type": "code",
   "execution_count": 93,
   "id": "f11491bf-eae8-411e-a740-83c4a0c80abd",
   "metadata": {},
   "outputs": [
    {
     "data": {
      "text/plain": [
       "np.False_"
      ]
     },
     "execution_count": 93,
     "metadata": {},
     "output_type": "execute_result"
    }
   ],
   "source": [
    "df.isnull().values.any() # remove null values in new table\n",
    "df.dropna(axis=0,inplace=True)\n",
    "df.isnull().values.any()"
   ]
  },
  {
   "cell_type": "code",
   "execution_count": null,
   "id": "ac50f9ae-1b24-4902-8fdc-68adcb082bfe",
   "metadata": {},
   "outputs": [],
   "source": [
    "# create multiple merge on new df. -------------"
   ]
  }
 ],
 "metadata": {
  "kernelspec": {
   "display_name": "Python 3 (ipykernel)",
   "language": "python",
   "name": "python3"
  },
  "language_info": {
   "codemirror_mode": {
    "name": "ipython",
    "version": 3
   },
   "file_extension": ".py",
   "mimetype": "text/x-python",
   "name": "python",
   "nbconvert_exporter": "python",
   "pygments_lexer": "ipython3",
   "version": "3.13.2"
  }
 },
 "nbformat": 4,
 "nbformat_minor": 5
}
